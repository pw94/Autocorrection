{
 "cells": [
  {
   "cell_type": "markdown",
   "metadata": {},
   "source": [
    "# Autokorekta"
   ]
  },
  {
   "cell_type": "markdown",
   "metadata": {},
   "source": [
    "## Language Model\n",
    "Prawdopodobieństwo tego, że dana fraza pojawi się jako słowo w angielskim tekście.\n",
    "Szacujemy prawdopodobieństwo danego słowa licząc wystąpienia każdego słowa w pliku tekstowym zawierającym 1161192 słów."
   ]
  },
  {
   "cell_type": "code",
   "execution_count": 15,
   "metadata": {
    "scrolled": true
   },
   "outputs": [
    {
     "name": "stdout",
     "output_type": "stream",
     "text": [
      "[nltk_data] Error loading brown: <urlopen error [Errno -3] Temporary\n",
      "[nltk_data]     failure in name resolution>\n"
     ]
    },
    {
     "data": {
      "text/plain": [
       "False"
      ]
     },
     "execution_count": 15,
     "metadata": {},
     "output_type": "execute_result"
    }
   ],
   "source": [
    "import nltk\n",
    "nltk.download('brown')"
   ]
  },
  {
   "cell_type": "code",
   "execution_count": 21,
   "metadata": {},
   "outputs": [],
   "source": [
    "from collections import Counter\n",
    "words = Counter(nltk.corpus.brown.words())\n",
    "\n",
    "\n",
    "def p(word, n=sum(words.values())):\n",
    "    return words[word] / n"
   ]
  },
  {
   "cell_type": "markdown",
   "metadata": {},
   "source": [
    "## Candidate Model"
   ]
  },
  {
   "cell_type": "markdown",
   "metadata": {},
   "source": [
    "### Odległość Damerau-Levenshteina\n",
    "\n",
    "Odległość Damerau-Levenshteina jest miarą odmienności napisów. Jest zdefiniowana jako minimalna liczba operacji potrzebna do przeobrażenia jednego napisu w inny, gdzie operacją może być wstawienie znaku, usunięcie znaku, zastąpienie znaku innym lub przestawienie sąsiednich znaków."
   ]
  },
  {
   "cell_type": "code",
   "execution_count": 31,
   "metadata": {},
   "outputs": [],
   "source": [
    "import string\n",
    "char_set = string.ascii_lowercase\n",
    "\n",
    "\n",
    "def edits1(word):\n",
    "    splits = [(word[:i], word[i:]) for i in range(len(word) + 1)]\n",
    "\n",
    "    inserts = [L + c + R for L, R in splits for c in char_set]\n",
    "\n",
    "    deletes = [L + R[1:] for L, R in splits if R]\n",
    "\n",
    "    substitutions = [L + c + R[1:] for L, R in splits if R for c in char_set]\n",
    "\n",
    "    transposes = [L + R[1] + R[0] + R[2:] for L, R in splits if len(R)>1]\n",
    "    \n",
    "    return set(deletes + transposes + substitutions + inserts)\n",
    "\n",
    "\n",
    "def edits(word, dist):\n",
    "    if dist == 1:\n",
    "        return edits1(word)\n",
    "    return set(e for generated_word in edits(word, dist-1) for e in edits1(generated_word))\n",
    "\n",
    "\n",
    "def known(cands):\n",
    "    return set(w for w in cands if w in words)"
   ]
  },
  {
   "cell_type": "markdown",
   "metadata": {},
   "source": [
    "## Error Model"
   ]
  },
  {
   "cell_type": "markdown",
   "metadata": {},
   "source": [
    "Prawdopodobieństwo, że wybrana fraza będzie słowem, które autor chciał wpisać.\n",
    "\n",
    "Szukamy słowa o jak największym prawdopodobieństwie przy jak najmniejszej odległości od wpisanej frazy. Przyjmujemy, że wszystkie znane słowa o odległości 1 są nieskończenie bardziej prawdopodobne niż znane słowa o odległości 2 i nieskończenie mniej prawdopodobne niż znane słowo o odległości 0."
   ]
  },
  {
   "cell_type": "code",
   "execution_count": 32,
   "metadata": {},
   "outputs": [],
   "source": [
    "def candidates(word):\n",
    "    return known([word]) or known(edits(word, 1)) or known(edits(word, 2)) or known(edits(word, 3))"
   ]
  },
  {
   "cell_type": "code",
   "execution_count": 36,
   "metadata": {},
   "outputs": [],
   "source": [
    "def autocorrection(word):\n",
    "    return max(candidates(word), key=p)"
   ]
  },
  {
   "cell_type": "markdown",
   "metadata": {},
   "source": [
    "## Ocena"
   ]
  },
  {
   "cell_type": "code",
   "execution_count": 40,
   "metadata": {},
   "outputs": [],
   "source": [
    "assert autocorrection('speling') == 'spelling'\n",
    "assert autocorrection('lates') == 'later'\n",
    "assert autocorrection('korrectud') == 'corrected'\n",
    "assert autocorrection('bycycle') == 'bicycle'\n",
    "assert autocorrection('inconvient') == 'inconvenient'\n",
    "assert autocorrection('arrainged') == 'arranged'\n",
    "assert autocorrection('peotry') == 'poetry'\n",
    "assert autocorrection('peotryy') == 'poetry'\n",
    "assert autocorrection('word') == 'word'"
   ]
  }
 ],
 "metadata": {
  "kernelspec": {
   "display_name": "Python 3",
   "language": "python",
   "name": "python3"
  },
  "language_info": {
   "codemirror_mode": {
    "name": "ipython",
    "version": 3
   },
   "file_extension": ".py",
   "mimetype": "text/x-python",
   "name": "python",
   "nbconvert_exporter": "python",
   "pygments_lexer": "ipython3",
   "version": "3.5.2"
  }
 },
 "nbformat": 4,
 "nbformat_minor": 1
}
